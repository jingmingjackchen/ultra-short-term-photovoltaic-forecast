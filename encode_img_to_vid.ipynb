{
 "cells": [
  {
   "cell_type": "code",
   "execution_count": 1,
   "metadata": {},
   "outputs": [
    {
     "name": "stdout",
     "output_type": "stream",
     "text": [
      "Video saved to output_video.mp4\n"
     ]
    }
   ],
   "source": [
    "import cv2\n",
    "import os\n",
    "import numpy as np\n",
    "\n",
    "def get_image_files(directory, extensions=['.png', '.jpg', '.jpeg']):\n",
    "    # Get list of image files in the directory\n",
    "    files = [os.path.join(directory, f) for f in os.listdir(directory)\n",
    "             if os.path.isfile(os.path.join(directory, f)) and\n",
    "             os.path.splitext(f)[1].lower() in extensions]\n",
    "    files.sort()  # Sort files to ensure correct order\n",
    "    return files\n",
    "\n",
    "def read_images_from_directory(directory, resize_to=None):\n",
    "    files = get_image_files(directory)\n",
    "    frames = []\n",
    "\n",
    "    for file in files:\n",
    "        img = cv2.imread(file)\n",
    "        if img is not None:\n",
    "            if resize_to:\n",
    "                img = cv2.resize(img, resize_to)\n",
    "            frames.append(img)\n",
    "        else:\n",
    "            print(f\"Warning: {file} is not a valid image file or could not be read.\")\n",
    "    \n",
    "    return frames\n",
    "\n",
    "def encode_frames_to_video(frames, output_file, fps=30):\n",
    "    if len(frames) == 0:\n",
    "        raise ValueError(\"No frames to encode into video\")\n",
    "\n",
    "    # Get frame dimensions\n",
    "    height, width = frames[0].shape[:2]\n",
    "\n",
    "    # Define codec and create VideoWriter object\n",
    "    fourcc = cv2.VideoWriter_fourcc(*'mp4v')  # For MP4 output\n",
    "    out = cv2.VideoWriter(output_file, fourcc, fps, (width, height))\n",
    "\n",
    "    for frame in frames:\n",
    "        out.write(frame)\n",
    "\n",
    "    out.release()\n",
    "    print(f\"Video saved to {output_file}\")\n",
    "\n",
    "# Example usage\n",
    "directory = 'frames/'\n",
    "output_video = 'output_video.mp4'\n",
    "FPS = 5\n",
    "resize_to = (128, 128)\n",
    "frames = read_images_from_directory(directory, resize_to)\n",
    "encode_frames_to_video(frames, output_video, fps=FPS)\n"
   ]
  }
 ],
 "metadata": {
  "kernelspec": {
   "display_name": "noobiePowerPrediction",
   "language": "python",
   "name": "python3"
  },
  "language_info": {
   "codemirror_mode": {
    "name": "ipython",
    "version": 3
   },
   "file_extension": ".py",
   "mimetype": "text/x-python",
   "name": "python",
   "nbconvert_exporter": "python",
   "pygments_lexer": "ipython3",
   "version": "3.12.3"
  }
 },
 "nbformat": 4,
 "nbformat_minor": 2
}
