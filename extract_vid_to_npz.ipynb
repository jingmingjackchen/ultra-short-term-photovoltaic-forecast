{
 "cells": [
  {
   "cell_type": "code",
   "execution_count": 2,
   "metadata": {},
   "outputs": [
    {
     "name": "stdout",
     "output_type": "stream",
     "text": [
      "Extracted 49 frames and 48 flows\n",
      "Data saved to video_data.npz\n"
     ]
    }
   ],
   "source": [
    "import cv2\n",
    "import numpy as np\n",
    "\n",
    "# Example usage\n",
    "video_path = 'output_video3.mp4'\n",
    "output_file = 'video_data.npz'\n",
    "resize_to = (160, 90)  # Resize frames if needed\n",
    "# resize_to = None\n",
    "\n",
    "def extract_frames_and_optical_flow(video_path, resize_to=None):\n",
    "    cap = cv2.VideoCapture(video_path)\n",
    "    ret, prev_frame = cap.read()\n",
    "    if not ret:\n",
    "        raise ValueError(\"Could not read video file\")\n",
    "    \n",
    "    # Resize frame if needed\n",
    "    if resize_to:\n",
    "        prev_frame = cv2.resize(prev_frame, resize_to)\n",
    "    \n",
    "    prev_gray = cv2.cvtColor(prev_frame, cv2.COLOR_BGR2GRAY)\n",
    "    \n",
    "    frames = [prev_frame]\n",
    "    flows = []\n",
    "\n",
    "    while cap.isOpened():\n",
    "        ret, frame = cap.read()\n",
    "        if not ret:\n",
    "            break\n",
    "        \n",
    "        if resize_to:\n",
    "            frame = cv2.resize(frame, resize_to)\n",
    "        \n",
    "        gray = cv2.cvtColor(frame, cv2.COLOR_BGR2GRAY)\n",
    "        \n",
    "        # Compute optical flow using Farneback method\n",
    "        flow = cv2.calcOpticalFlowFarneback(prev_gray, gray, None,\n",
    "                                            0.5, 3, 15, 3, 5, 1.2, 0)\n",
    "        \n",
    "        frames.append(frame)\n",
    "        flows.append(flow)\n",
    "        \n",
    "        prev_gray = gray\n",
    "\n",
    "    cap.release()\n",
    "    return np.array(frames), np.array(flows)\n",
    "\n",
    "def save_to_npz(frames, flows, output_file):\n",
    "    np.savez(output_file, frames=frames, flows=flows)\n",
    "    print(f\"Data saved to {output_file}\")\n",
    "\n",
    "# Extract frames and optical flow\n",
    "frames, flows = extract_frames_and_optical_flow(video_path, resize_to=resize_to)\n",
    "print(f\"Extracted {len(frames)} frames and {len(flows)} flows\")\n",
    "\n",
    "# Save data to npz file\n",
    "save_to_npz(frames, flows, output_file)"
   ]
  },
  {
   "cell_type": "code",
   "execution_count": 4,
   "metadata": {},
   "outputs": [
    {
     "name": "stdout",
     "output_type": "stream",
     "text": [
      "Loaded 50 frames and 49 flows\n"
     ]
    }
   ],
   "source": [
    "# Load data from npz file\n",
    "data = np.load('video_data.npz')\n",
    "frames = data['frames']\n",
    "flows = data['flows']\n",
    "\n",
    "print(f\"Loaded {frames.shape[0]} frames and {flows.shape[0]} flows\")"
   ]
  }
 ],
 "metadata": {
  "kernelspec": {
   "display_name": "noobiePowerPrediction",
   "language": "python",
   "name": "python3"
  },
  "language_info": {
   "codemirror_mode": {
    "name": "ipython",
    "version": 3
   },
   "file_extension": ".py",
   "mimetype": "text/x-python",
   "name": "python",
   "nbconvert_exporter": "python",
   "pygments_lexer": "ipython3",
   "version": "3.1.-1"
  }
 },
 "nbformat": 4,
 "nbformat_minor": 2
}
