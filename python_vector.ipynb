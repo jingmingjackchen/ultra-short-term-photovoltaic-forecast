{
 "cells": [
  {
   "cell_type": "code",
   "execution_count": 1,
   "metadata": {},
   "outputs": [],
   "source": [
    "# import av\n",
    "import cv2\n",
    "import numpy as np\n",
    "import h5py"
   ]
  },
  {
   "cell_type": "code",
   "execution_count": 2,
   "metadata": {},
   "outputs": [],
   "source": [
    "SOURCE_FILE = \"output_video4.mp4\"\n",
    "OPTICAL_FLOW_OUTPUT_FILE_NPZ = \"optical_flow.npz\"\n",
    "OPTICAL_FLOW_OUTPUT_FILE_H5 = \"optical_flow.h5\""
   ]
  },
  {
   "cell_type": "code",
   "execution_count": 3,
   "metadata": {},
   "outputs": [],
   "source": [
    "def draw_optical_flows(img, flow, step=16):\n",
    "    h, w = img.shape[:2]\n",
    "    y, x = (\n",
    "        np.mgrid[step // 2 : h : step, step // 2 : w : step]\n",
    "        .reshape(2, -1)\n",
    "        .astype(int)\n",
    "    )\n",
    "    fx, fy = flow[y, x].T\n",
    "\n",
    "    lines = np.vstack([x, y, x + fx, y + fy]).T.reshape(-1, 2, 2)\n",
    "    lines = np.int32(lines + 0.5)\n",
    "\n",
    "    # Draw motion vectors as lines\n",
    "    for (x1, y1), (x2, y2) in lines:\n",
    "        cv2.arrowedLine(img, (x1, y1), (x2, y2), (0, 255, 0), 1, tipLength=0.3)\n",
    "\n",
    "    return img\n",
    "\n",
    "\n",
    "def extract_optical_flows(video_path):\n",
    "    cap = cv2.VideoCapture(video_path)\n",
    "\n",
    "    ret, prev_frame = cap.read()\n",
    "    prev_gray = cv2.cvtColor(prev_frame, cv2.COLOR_BGR2GRAY)\n",
    "\n",
    "    while cap.isOpened():\n",
    "        ret, frame = cap.read()\n",
    "        if not ret:\n",
    "            break\n",
    "\n",
    "        gray = cv2.cvtColor(frame, cv2.COLOR_BGR2GRAY)\n",
    "\n",
    "        # Compute Farneback optical flow\n",
    "        flow = cv2.calcOpticalFlowFarneback(\n",
    "            prev_gray, gray, None, 0.5, 3, 15, 3, 5, 1.2, 0\n",
    "        )\n",
    "\n",
    "        # Draw motion vectors on the frame\n",
    "        img_with_vectors = draw_optical_flows(frame, flow)\n",
    "\n",
    "        # Show the image\n",
    "        cv2.imshow(\"Motion Vectors\", img_with_vectors)\n",
    "        if cv2.waitKey(1) & 0xFF == ord(\"q\"):\n",
    "            break\n",
    "\n",
    "        prev_gray = gray\n",
    "\n",
    "    cap.release()\n",
    "    cv2.destroyAllWindows()"
   ]
  },
  {
   "cell_type": "code",
   "execution_count": 4,
   "metadata": {},
   "outputs": [],
   "source": [
    "def save_optical_flow(video_path, output_file):\n",
    "    cap = cv2.VideoCapture(video_path)\n",
    "    ret, prev_frame = cap.read()\n",
    "    prev_gray = cv2.cvtColor(prev_frame, cv2.COLOR_BGR2GRAY)\n",
    "\n",
    "    flows = []\n",
    "\n",
    "    while cap.isOpened():\n",
    "        ret, frame = cap.read()\n",
    "        if not ret:\n",
    "            break\n",
    "\n",
    "        gray = cv2.cvtColor(frame, cv2.COLOR_BGR2GRAY)\n",
    "\n",
    "        # Compute Farneback optical flow\n",
    "        flow = cv2.calcOpticalFlowFarneback(\n",
    "            prev_gray, gray, None, 0.5, 3, 15, 3, 5, 1.2, 0\n",
    "        )\n",
    "\n",
    "        # Store flow vectors\n",
    "        flows.append(flow)\n",
    "\n",
    "        prev_gray = gray\n",
    "\n",
    "    cap.release()\n",
    "\n",
    "    # Convert to numpy array and save\n",
    "    np.savez(output_file, flows=np.array(flows))\n",
    "\n",
    "    print(f\"Optical flow saved to {output_file}\")"
   ]
  },
  {
   "cell_type": "code",
   "execution_count": 5,
   "metadata": {},
   "outputs": [],
   "source": [
    "def save_optical_flow_hdf5(video_path, output_file):\n",
    "    cap = cv2.VideoCapture(video_path)\n",
    "    ret, prev_frame = cap.read()\n",
    "    prev_gray = cv2.cvtColor(prev_frame, cv2.COLOR_BGR2GRAY)\n",
    "\n",
    "    flows = []\n",
    "\n",
    "    while cap.isOpened():\n",
    "        ret, frame = cap.read()\n",
    "        if not ret:\n",
    "            break\n",
    "\n",
    "        gray = cv2.cvtColor(frame, cv2.COLOR_BGR2GRAY)\n",
    "\n",
    "        # Compute Farneback optical flow\n",
    "        flow = cv2.calcOpticalFlowFarneback(\n",
    "            prev_gray, gray, None, 0.5, 3, 15, 3, 5, 1.2, 0\n",
    "        )\n",
    "\n",
    "        # Store flow vectors\n",
    "        flows.append(flow)\n",
    "\n",
    "        prev_gray = gray\n",
    "\n",
    "    cap.release()\n",
    "\n",
    "    # Save to HDF5\n",
    "    with h5py.File(output_file, \"w\") as f:\n",
    "        f.create_dataset(\"flows\", data=np.array(flows))\n",
    "\n",
    "    print(f\"Optical flow saved to {output_file}\")"
   ]
  },
  {
   "cell_type": "code",
   "execution_count": 5,
   "metadata": {},
   "outputs": [],
   "source": [
    "def load_and_visualize_optical_flow(flow_file):\n",
    "    data = np.load(flow_file)\n",
    "    flows = data[\"flows\"]\n",
    "\n",
    "    for flow in flows:\n",
    "        # Generate a blank image for visualization\n",
    "        h, w = flow.shape[:2]\n",
    "        blank_image = np.zeros((h, w, 3), np.uint8)\n",
    "\n",
    "        # Draw motion vectors\n",
    "        step = 16\n",
    "        y, x = (\n",
    "            np.mgrid[step // 2 : h : step, step // 2 : w : step]\n",
    "            .reshape(2, -1)\n",
    "            .astype(int)\n",
    "        )\n",
    "        fx, fy = flow[y, x].T\n",
    "\n",
    "        lines = np.vstack([x, y, x + fx, y + fy]).T.reshape(-1, 2, 2)\n",
    "        lines = np.int32(lines + 0.5)\n",
    "\n",
    "        for (x1, y1), (x2, y2) in lines:\n",
    "            cv2.arrowedLine(\n",
    "                blank_image, (x1, y1), (x2, y2), (0, 255, 0), 1, tipLength=0.3\n",
    "            )\n",
    "\n",
    "        # Show the image\n",
    "        cv2.imshow(\"Optical Flow\", blank_image)\n",
    "        if cv2.waitKey(1) & 0xFF == ord(\"q\"):\n",
    "            break\n",
    "\n",
    "    cv2.destroyAllWindows()"
   ]
  },
  {
   "cell_type": "code",
   "execution_count": null,
   "metadata": {},
   "outputs": [],
   "source": [
    "def load_and_visualize_optical_flow_hdf5(flow_file):\n",
    "    with h5py.File(flow_file, \"r\") as f:\n",
    "        flows = f[\"flows\"][:]\n",
    "\n",
    "    for flow in flows:\n",
    "        h, w = flow.shape[:2]\n",
    "        blank_image = np.zeros((h, w, 3), np.uint8)\n",
    "\n",
    "        step = 16\n",
    "        y, x = (\n",
    "            np.mgrid[step // 2 : h : step, step // 2 : w : step]\n",
    "            .reshape(2, -1)\n",
    "            .astype(int)\n",
    "        )\n",
    "        fx, fy = flow[y, x].T\n",
    "\n",
    "        lines = np.vstack([x, y, x + fx, y + fy]).T.reshape(-1, 2, 2)\n",
    "        lines = np.int32(lines + 0.5)\n",
    "\n",
    "        for (x1, y1), (x2, y2) in lines:\n",
    "            cv2.arrowedLine(\n",
    "                blank_image, (x1, y1), (x2, y2), (0, 255, 0), 1, tipLength=0.3\n",
    "            )\n",
    "\n",
    "        cv2.imshow(\"Optical Flow\", blank_image)\n",
    "        if cv2.waitKey(1) & 0xFF == ord(\"q\"):\n",
    "            break\n",
    "\n",
    "    cv2.destroyAllWindows()"
   ]
  },
  {
   "cell_type": "code",
   "execution_count": 6,
   "metadata": {},
   "outputs": [],
   "source": [
    "# Display optical flow\n",
    "extract_optical_flows(SOURCE_FILE)"
   ]
  },
  {
   "cell_type": "code",
   "execution_count": 7,
   "metadata": {},
   "outputs": [
    {
     "name": "stdout",
     "output_type": "stream",
     "text": [
      "Optical flow saved to optical_flow.npz\n"
     ]
    }
   ],
   "source": [
    "# save optical flow to a file\n",
    "save_optical_flow(SOURCE_FILE, OPTICAL_FLOW_OUTPUT_FILE_NPZ)"
   ]
  },
  {
   "cell_type": "code",
   "execution_count": null,
   "metadata": {},
   "outputs": [],
   "source": [
    "# save optical flow to a file (HDF5)\n",
    "save_optical_flow_hdf5(SOURCE_FILE, OPTICAL_FLOW_OUTPUT_FILE_H5)"
   ]
  },
  {
   "cell_type": "code",
   "execution_count": 8,
   "metadata": {},
   "outputs": [],
   "source": [
    "# visualize optical flow from file\n",
    "load_and_visualize_optical_flow(OPTICAL_FLOW_OUTPUT_FILE_NPZ)"
   ]
  },
  {
   "cell_type": "code",
   "execution_count": null,
   "metadata": {},
   "outputs": [],
   "source": [
    "# visualize optical flow from file (HDF5)\n",
    "load_and_visualize_optical_flow_hdf5(OPTICAL_FLOW_OUTPUT_FILE_H5)"
   ]
  },
  {
   "cell_type": "code",
   "execution_count": 6,
   "metadata": {},
   "outputs": [
    {
     "data": {
      "text/plain": [
       "NpzFile 'optical_flow.npz' with keys: flows"
      ]
     },
     "execution_count": 6,
     "metadata": {},
     "output_type": "execute_result"
    }
   ],
   "source": [
    "np.load(\"optical_flow.npz\")\n"
   ]
  }
 ],
 "metadata": {
  "kernelspec": {
   "display_name": "noobiePowerPrediction",
   "language": "python",
   "name": "python3"
  },
  "language_info": {
   "codemirror_mode": {
    "name": "ipython",
    "version": 3
   },
   "file_extension": ".py",
   "mimetype": "text/x-python",
   "name": "python",
   "nbconvert_exporter": "python",
   "pygments_lexer": "ipython3",
   "version": "3.11.3"
  }
 },
 "nbformat": 4,
 "nbformat_minor": 2
}
