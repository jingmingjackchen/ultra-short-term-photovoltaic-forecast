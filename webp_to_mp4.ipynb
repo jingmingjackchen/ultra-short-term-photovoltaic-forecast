{
 "cells": [
  {
   "cell_type": "code",
   "execution_count": 4,
   "metadata": {},
   "outputs": [
    {
     "name": "stdout",
     "output_type": "stream",
     "text": [
      "Video saved as output_video4.mp4\n"
     ]
    }
   ],
   "source": [
    "from PIL import Image\n",
    "import cv2\n",
    "import os\n",
    "import numpy as np\n",
    "\n",
    "def extract_frames_from_webp(webp_file):\n",
    "    \"\"\"\n",
    "    Extract frames from an animated .webp file.\n",
    "    Returns a list of frames (as NumPy arrays).\n",
    "    \"\"\"\n",
    "    img = Image.open(webp_file)\n",
    "    frames = []\n",
    "    \n",
    "    try:\n",
    "        while True:\n",
    "            frame = img.convert('RGB')\n",
    "            frames.append(np.array(frame))\n",
    "            img.seek(img.tell() + 1)\n",
    "    except EOFError:\n",
    "        pass  # End of sequence\n",
    "    \n",
    "    return frames\n",
    "\n",
    "def save_frames_to_video(frames, output_video_file, frame_rate):\n",
    "    \"\"\"\n",
    "    Save a list of frames to an MP4 video file.\n",
    "    \"\"\"\n",
    "    if not frames:\n",
    "        print(\"No frames to save.\")\n",
    "        return\n",
    "    \n",
    "    height, width, _ = frames[0].shape\n",
    "    fourcc = cv2.VideoWriter_fourcc(*'mp4v')\n",
    "    video = cv2.VideoWriter(output_video_file, fourcc, frame_rate, (width, height))\n",
    "    \n",
    "    for frame in frames:\n",
    "        video.write(cv2.cvtColor(frame, cv2.COLOR_RGB2BGR))\n",
    "    \n",
    "    video.release()\n",
    "    print(f\"Video saved as {output_video_file}\")\n",
    "\n",
    "# Example usage\n",
    "webp_file = 'webp/giphy4.webp'\n",
    "output_video_file = 'output_video4.mp4'\n",
    "frame_rate = 5  # Frames per second\n",
    "\n",
    "# Extract frames and convert to video\n",
    "frames = extract_frames_from_webp(webp_file)\n",
    "save_frames_to_video(frames, output_video_file, frame_rate)\n"
   ]
  }
 ],
 "metadata": {
  "kernelspec": {
   "display_name": "noobiePowerPrediction",
   "language": "python",
   "name": "python3"
  },
  "language_info": {
   "codemirror_mode": {
    "name": "ipython",
    "version": 3
   },
   "file_extension": ".py",
   "mimetype": "text/x-python",
   "name": "python",
   "nbconvert_exporter": "python",
   "pygments_lexer": "ipython3",
   "version": "3.1.-1"
  }
 },
 "nbformat": 4,
 "nbformat_minor": 2
}
