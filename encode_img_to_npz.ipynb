{
 "cells": [
  {
   "cell_type": "code",
   "execution_count": 3,
   "metadata": {},
   "outputs": [
    {
     "name": "stdout",
     "output_type": "stream",
     "text": [
      "Loaded 66 images with shape (66, 480, 480, 3)\n",
      "Images saved to frames.npz\n"
     ]
    }
   ],
   "source": [
    "import cv2\n",
    "import os\n",
    "import numpy as np\n",
    "\n",
    "# Example usage\n",
    "directory = 'frames/'  # Replace with your directory\n",
    "output_file = 'frames.npz'\n",
    "resize_to = (256, 256)  # Resize to 256x256 if needed\n",
    "resize_to = None  # Comment out to disable resizing\n",
    "\n",
    "def get_image_files(directory, extensions=['.png', '.jpg', '.jpeg']):\n",
    "    # Get list of image files in the directory\n",
    "    files = [os.path.join(directory, f) for f in os.listdir(directory)\n",
    "             if os.path.isfile(os.path.join(directory, f)) and\n",
    "             os.path.splitext(f)[1].lower() in extensions]\n",
    "    files.sort()  # Sort files to ensure correct order\n",
    "    return files\n",
    "\n",
    "def read_images_from_directory(directory, resize_to=None):\n",
    "    files = get_image_files(directory)\n",
    "    images = []\n",
    "\n",
    "    for file in files:\n",
    "        img = cv2.imread(file)\n",
    "        if img is not None:\n",
    "            if resize_to:\n",
    "                img = cv2.resize(img, resize_to)\n",
    "            images.append(img)\n",
    "        else:\n",
    "            print(f\"Warning: {file} is not a valid image file or could not be read.\")\n",
    "    \n",
    "    return np.array(images)\n",
    "\n",
    "def save_images_to_npz(images, output_file):\n",
    "    np.savez(output_file, frames=images)\n",
    "    print(f\"Images saved to {output_file}\")\n",
    "\n",
    "\n",
    "\n",
    "# Load images from directory\n",
    "images = read_images_from_directory(directory, resize_to=resize_to)\n",
    "print(f\"Loaded {len(images)} images with shape {images.shape}\")\n",
    "\n",
    "# Save images to .npz file\n",
    "save_images_to_npz(images, output_file)\n"
   ]
  },
  {
   "cell_type": "code",
   "execution_count": 4,
   "metadata": {},
   "outputs": [
    {
     "data": {
      "text/plain": [
       "NpzFile 'frames.npz' with keys: frames"
      ]
     },
     "execution_count": 4,
     "metadata": {},
     "output_type": "execute_result"
    }
   ],
   "source": [
    "np.load(\"frames.npz\")"
   ]
  }
 ],
 "metadata": {
  "kernelspec": {
   "display_name": "noobiePowerPrediction",
   "language": "python",
   "name": "python3"
  },
  "language_info": {
   "codemirror_mode": {
    "name": "ipython",
    "version": 3
   },
   "file_extension": ".py",
   "mimetype": "text/x-python",
   "name": "python",
   "nbconvert_exporter": "python",
   "pygments_lexer": "ipython3",
   "version": "3.1.-1"
  }
 },
 "nbformat": 4,
 "nbformat_minor": 2
}
